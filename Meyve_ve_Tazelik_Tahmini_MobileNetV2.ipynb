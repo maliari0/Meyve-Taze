{
  "nbformat": 4,
  "nbformat_minor": 0,
  "metadata": {
    "colab": {
      "provenance": [],
      "authorship_tag": "ABX9TyOZAwT9aG+oNuLGzCmrOo3T",
      "include_colab_link": true
    },
    "kernelspec": {
      "name": "python3",
      "display_name": "Python 3"
    },
    "language_info": {
      "name": "python"
    }
  },
  "cells": [
    {
      "cell_type": "markdown",
      "metadata": {
        "id": "view-in-github",
        "colab_type": "text"
      },
      "source": [
        "<a href=\"https://colab.research.google.com/github/maliari0/Meyve-Taze/blob/main/Meyve_ve_Tazelik_Tahmini_MobileNetV2.ipynb\" target=\"_parent\"><img src=\"https://colab.research.google.com/assets/colab-badge.svg\" alt=\"Open In Colab\"/></a>"
      ]
    },
    {
      "cell_type": "code",
      "execution_count": 1,
      "metadata": {
        "id": "aNhQs1b1jpcm"
      },
      "outputs": [],
      "source": [
        "import os\n",
        "import cv2\n",
        "import numpy as np\n",
        "import pandas as pd\n",
        "import matplotlib.pyplot as plt\n",
        "from random import shuffle\n",
        "from tqdm import tqdm\n",
        "from tensorflow.keras.models import Sequential\n",
        "from tensorflow.keras.layers import Dense, Flatten, Dropout, BatchNormalization, Conv2D, MaxPooling2D, SeparableConv2D\n",
        "from tensorflow.keras.applications import MobileNetV2\n",
        "from tensorflow.keras.preprocessing.image import ImageDataGenerator\n",
        "from tensorflow.keras.callbacks import ReduceLROnPlateau, ModelCheckpoint\n",
        "from tensorflow.keras.optimizers import Adam\n",
        "from sklearn.model_selection import train_test_split\n"
      ]
    },
    {
      "cell_type": "code",
      "source": [
        "from google.colab import drive\n",
        "drive.mount('/content/drive')\n",
        "\n",
        "dir_path = '/content/drive/My Drive/Colab Notebooks/Taze/dataset/train'\n",
        "dir_path_test = '/content/drive/My Drive/Colab Notebooks/Taze/dataset/test'\n"
      ],
      "metadata": {
        "colab": {
          "base_uri": "https://localhost:8080/"
        },
        "id": "dwTKDZCnkfAk",
        "outputId": "1e4c2245-59e4-4b48-df9b-9fc3f42884fd"
      },
      "execution_count": 2,
      "outputs": [
        {
          "output_type": "stream",
          "name": "stdout",
          "text": [
            "Mounted at /content/drive\n"
          ]
        }
      ]
    },
    {
      "cell_type": "code",
      "source": [
        "def load_data(dir_path):\n",
        "    fruit_type_map = {\n",
        "        'freshapples': 0, 'freshbanana': 1, 'freshoranges': 2,\n",
        "        'rottenapples': 0, 'rottenbanana': 1, 'rottenoranges': 2\n",
        "    }\n",
        "    freshness_map = {\n",
        "        'freshapples': 0, 'freshbanana': 0, 'freshoranges': 0,\n",
        "        'rottenapples': 1, 'rottenbanana': 1, 'rottenoranges': 1\n",
        "    }\n",
        "    data = []\n",
        "    for category in fruit_type_map:\n",
        "        path = os.path.join(dir_path, category)\n",
        "        fruit_type_label = fruit_type_map[category]\n",
        "        freshness_label = freshness_map[category]\n",
        "        for img_name in tqdm(os.listdir(path)):\n",
        "            if img_name.endswith('.png'):\n",
        "                img_path = os.path.join(path, img_name)\n",
        "                img = cv2.imread(img_path)\n",
        "                img = cv2.resize(img, (100, 100))\n",
        "                img = cv2.cvtColor(img, cv2.COLOR_BGR2RGB)\n",
        "                data.append([img, fruit_type_label, freshness_label])\n",
        "    shuffle(data)\n",
        "    X = []\n",
        "    Y_fruit_type = []\n",
        "    Y_freshness = []\n",
        "    for features, fruit_type_label, freshness_label in data:\n",
        "        X.append(features)\n",
        "        Y_fruit_type.append(fruit_type_label)\n",
        "        Y_freshness.append(freshness_label)\n",
        "    return np.array(X), np.array(Y_fruit_type), np.array(Y_freshness)\n",
        "\n",
        "# Load training data\n",
        "X_train, Y_train_fruit_type, Y_train_freshness = load_data('/content/drive/My Drive/Colab Notebooks/Taze/dataset/train')\n",
        "\n",
        "# Load validation data\n",
        "X_val, Y_val_fruit_type, Y_val_freshness = load_data('/content/drive/My Drive/Colab Notebooks/Taze/dataset/test')\n",
        "\n",
        "# Normalize the images\n",
        "X_train = X_train / 255.0\n",
        "X_val = X_val / 255.0\n"
      ],
      "metadata": {
        "colab": {
          "base_uri": "https://localhost:8080/"
        },
        "id": "iAQa7Pwflesl",
        "outputId": "e33db600-543f-4991-8c9e-c4ad8e3f7eb7"
      },
      "execution_count": 5,
      "outputs": [
        {
          "output_type": "stream",
          "name": "stderr",
          "text": [
            "100%|██████████| 1693/1693 [00:55<00:00, 30.37it/s]\n",
            "100%|██████████| 1581/1581 [00:49<00:00, 32.11it/s]\n",
            "100%|██████████| 1466/1466 [01:16<00:00, 19.28it/s]\n",
            "100%|██████████| 2342/2342 [02:55<00:00, 13.31it/s]\n",
            "100%|██████████| 2224/2224 [02:36<00:00, 14.20it/s]\n",
            "100%|██████████| 1595/1595 [01:59<00:00, 13.30it/s]\n",
            "100%|██████████| 395/395 [00:13<00:00, 28.55it/s]\n",
            "100%|██████████| 381/381 [00:15<00:00, 25.01it/s]\n",
            "100%|██████████| 388/388 [00:14<00:00, 26.37it/s]\n",
            "100%|██████████| 601/601 [00:26<00:00, 22.94it/s]\n",
            "100%|██████████| 530/530 [00:24<00:00, 21.21it/s]\n",
            "100%|██████████| 403/403 [00:22<00:00, 18.31it/s]\n"
          ]
        }
      ]
    },
    {
      "cell_type": "code",
      "source": [
        "from tensorflow.keras.models import Model\n",
        "from tensorflow.keras.applications import MobileNetV2\n",
        "from tensorflow.keras.layers import Dense, Dropout, Flatten, BatchNormalization, SeparableConv2D, MaxPooling2D\n",
        "from tensorflow.keras.optimizers import Adam\n",
        "from tensorflow.keras.callbacks import ReduceLROnPlateau, ModelCheckpoint\n",
        "from keras.utils import to_categorical\n",
        "\n",
        "\n",
        "# Pre-trained MobileNetV2 model\n",
        "mobilenetv2_model = MobileNetV2(weights='imagenet', include_top=False, input_shape=(100, 100, 3))\n",
        "\n",
        "# Freeze the base model layers\n",
        "for layer in mobilenetv2_model.layers:\n",
        "    layer.trainable = False\n",
        "\n",
        "# Build the model using Functional API\n",
        "input_layer = mobilenetv2_model.input\n",
        "x = mobilenetv2_model.output\n",
        "x = BatchNormalization()(x)\n",
        "x = SeparableConv2D(64, (3, 3), activation='relu', padding='same')(x)\n",
        "x = SeparableConv2D(64, (3, 3), activation='relu', padding='same')(x)\n",
        "x = BatchNormalization()(x)\n",
        "x = MaxPooling2D((2, 2))(x)\n",
        "x = Dropout(0.4)(x)\n",
        "\n",
        "x = Conv2D(128, (3, 3), activation='relu', padding='same')(x)\n",
        "x = Conv2D(128, (3, 3), activation='relu', padding='same')(x)\n",
        "x = BatchNormalization()(x)\n",
        "x = MaxPooling2D((2, 2))(x)\n",
        "x = Dropout(0.5)(x)\n",
        "\n",
        "x = Flatten()(x)\n",
        "x = Dense(128, activation='relu')(x)\n",
        "x = Dropout(0.3)(x)\n",
        "\n",
        "# Meyve türü tahmini için çıkış katmanı\n",
        "fruit_type_output = Dense(3, activation='softmax', name='fruit_type_output')(x)\n",
        "\n",
        "# Tazelik tahmini için çıkış katmanı\n",
        "freshness_output = Dense(1, activation='sigmoid', name='freshness_output')(x)\n",
        "\n",
        "# Modeli birleştir\n",
        "model = Model(inputs=input_layer, outputs=[fruit_type_output, freshness_output])\n",
        "\n",
        "# Compile the model\n",
        "model.compile(optimizer=Adam(learning_rate=0.001),\n",
        "              loss={'fruit_type_output': 'categorical_crossentropy', 'freshness_output': 'binary_crossentropy'},\n",
        "              metrics={'fruit_type_output': 'accuracy', 'freshness_output': 'accuracy'})\n",
        "\n",
        "# Callbacks\n",
        "lr_reduce = ReduceLROnPlateau(monitor='val_loss', factor=0.5, patience=6, verbose=1, min_lr=0.00002)\n",
        "checkpoint = ModelCheckpoint('best_model.keras', monitor='val_loss', verbose=1, save_best_only=True, mode='min')\n",
        "\n",
        "# Split data into training and validation sets\n",
        "X_train, X_val, Y_train_fruit_type, Y_val_fruit_type, Y_train_freshness, Y_val_freshness = train_test_split(\n",
        "    X_train, Y_train_fruit_type, Y_train_freshness, test_size=0.2, random_state=42)\n",
        "\n",
        "Y_train_fruit_type = to_categorical(Y_train_fruit_type, num_classes=3)\n",
        "Y_val_fruit_type = to_categorical(Y_val_fruit_type, num_classes=3)\n",
        "\n",
        "# Train the model\n",
        "history = model.fit(X_train, {'fruit_type_output': Y_train_fruit_type, 'freshness_output': Y_train_freshness},\n",
        "                    validation_data=(X_val, {'fruit_type_output': Y_val_fruit_type, 'freshness_output': Y_val_freshness}),\n",
        "                    epochs=20, batch_size=32, callbacks=[lr_reduce, checkpoint])\n"
      ],
      "metadata": {
        "colab": {
          "base_uri": "https://localhost:8080/"
        },
        "id": "yuTKSeKmlfKe",
        "outputId": "608c85d7-a57b-4c68-cb03-dbaf58d039ea"
      },
      "execution_count": 10,
      "outputs": [
        {
          "output_type": "stream",
          "name": "stderr",
          "text": [
            "<ipython-input-10-bdd19c00c1b9>:10: UserWarning: `input_shape` is undefined or non-square, or `rows` is not in [96, 128, 160, 192, 224]. Weights for input shape (224, 224) will be loaded as the default.\n",
            "  mobilenetv2_model = MobileNetV2(weights='imagenet', include_top=False, input_shape=(100, 100, 3))\n"
          ]
        },
        {
          "output_type": "stream",
          "name": "stdout",
          "text": [
            "Epoch 1/20\n",
            "\u001b[1m218/218\u001b[0m \u001b[32m━━━━━━━━━━━━━━━━━━━━\u001b[0m\u001b[37m\u001b[0m \u001b[1m0s\u001b[0m 295ms/step - freshness_output_accuracy: 0.7892 - fruit_type_output_accuracy: 0.8081 - loss: 0.8948\n",
            "Epoch 1: val_loss improved from inf to 1.25451, saving model to best_model.keras\n",
            "\u001b[1m218/218\u001b[0m \u001b[32m━━━━━━━━━━━━━━━━━━━━\u001b[0m\u001b[37m\u001b[0m \u001b[1m100s\u001b[0m 402ms/step - freshness_output_accuracy: 0.7897 - fruit_type_output_accuracy: 0.8086 - loss: 0.8931 - val_freshness_output_accuracy: 0.9346 - val_fruit_type_output_accuracy: 0.5992 - val_loss: 1.2545 - learning_rate: 0.0010\n",
            "Epoch 2/20\n",
            "\u001b[1m218/218\u001b[0m \u001b[32m━━━━━━━━━━━━━━━━━━━━\u001b[0m\u001b[37m\u001b[0m \u001b[1m0s\u001b[0m 289ms/step - freshness_output_accuracy: 0.9677 - fruit_type_output_accuracy: 0.9707 - loss: 0.1941\n",
            "Epoch 2: val_loss improved from 1.25451 to 0.22315, saving model to best_model.keras\n",
            "\u001b[1m218/218\u001b[0m \u001b[32m━━━━━━━━━━━━━━━━━━━━\u001b[0m\u001b[37m\u001b[0m \u001b[1m84s\u001b[0m 386ms/step - freshness_output_accuracy: 0.9677 - fruit_type_output_accuracy: 0.9707 - loss: 0.1941 - val_freshness_output_accuracy: 0.9759 - val_fruit_type_output_accuracy: 0.9845 - val_loss: 0.2231 - learning_rate: 0.0010\n",
            "Epoch 3/20\n",
            "\u001b[1m218/218\u001b[0m \u001b[32m━━━━━━━━━━━━━━━━━━━━\u001b[0m\u001b[37m\u001b[0m \u001b[1m0s\u001b[0m 291ms/step - freshness_output_accuracy: 0.9749 - fruit_type_output_accuracy: 0.9765 - loss: 0.1601\n",
            "Epoch 3: val_loss improved from 0.22315 to 0.07710, saving model to best_model.keras\n",
            "\u001b[1m218/218\u001b[0m \u001b[32m━━━━━━━━━━━━━━━━━━━━\u001b[0m\u001b[37m\u001b[0m \u001b[1m84s\u001b[0m 388ms/step - freshness_output_accuracy: 0.9749 - fruit_type_output_accuracy: 0.9765 - loss: 0.1601 - val_freshness_output_accuracy: 0.9891 - val_fruit_type_output_accuracy: 0.9839 - val_loss: 0.0771 - learning_rate: 0.0010\n",
            "Epoch 4/20\n",
            "\u001b[1m218/218\u001b[0m \u001b[32m━━━━━━━━━━━━━━━━━━━━\u001b[0m\u001b[37m\u001b[0m \u001b[1m0s\u001b[0m 290ms/step - freshness_output_accuracy: 0.9869 - fruit_type_output_accuracy: 0.9870 - loss: 0.0827\n",
            "Epoch 4: val_loss improved from 0.07710 to 0.07061, saving model to best_model.keras\n",
            "\u001b[1m218/218\u001b[0m \u001b[32m━━━━━━━━━━━━━━━━━━━━\u001b[0m\u001b[37m\u001b[0m \u001b[1m135s\u001b[0m 355ms/step - freshness_output_accuracy: 0.9869 - fruit_type_output_accuracy: 0.9870 - loss: 0.0827 - val_freshness_output_accuracy: 0.9851 - val_fruit_type_output_accuracy: 0.9908 - val_loss: 0.0706 - learning_rate: 0.0010\n",
            "Epoch 5/20\n",
            "\u001b[1m218/218\u001b[0m \u001b[32m━━━━━━━━━━━━━━━━━━━━\u001b[0m\u001b[37m\u001b[0m \u001b[1m0s\u001b[0m 293ms/step - freshness_output_accuracy: 0.9823 - fruit_type_output_accuracy: 0.9892 - loss: 0.0883\n",
            "Epoch 5: val_loss did not improve from 0.07061\n",
            "\u001b[1m218/218\u001b[0m \u001b[32m━━━━━━━━━━━━━━━━━━━━\u001b[0m\u001b[37m\u001b[0m \u001b[1m89s\u001b[0m 388ms/step - freshness_output_accuracy: 0.9823 - fruit_type_output_accuracy: 0.9891 - loss: 0.0884 - val_freshness_output_accuracy: 0.9874 - val_fruit_type_output_accuracy: 0.9914 - val_loss: 0.0726 - learning_rate: 0.0010\n",
            "Epoch 6/20\n",
            "\u001b[1m218/218\u001b[0m \u001b[32m━━━━━━━━━━━━━━━━━━━━\u001b[0m\u001b[37m\u001b[0m \u001b[1m0s\u001b[0m 312ms/step - freshness_output_accuracy: 0.9887 - fruit_type_output_accuracy: 0.9922 - loss: 0.0703\n",
            "Epoch 6: val_loss did not improve from 0.07061\n",
            "\u001b[1m218/218\u001b[0m \u001b[32m━━━━━━━━━━━━━━━━━━━━\u001b[0m\u001b[37m\u001b[0m \u001b[1m146s\u001b[0m 407ms/step - freshness_output_accuracy: 0.9887 - fruit_type_output_accuracy: 0.9922 - loss: 0.0703 - val_freshness_output_accuracy: 0.9834 - val_fruit_type_output_accuracy: 0.9908 - val_loss: 0.0908 - learning_rate: 0.0010\n",
            "Epoch 7/20\n",
            "\u001b[1m218/218\u001b[0m \u001b[32m━━━━━━━━━━━━━━━━━━━━\u001b[0m\u001b[37m\u001b[0m \u001b[1m0s\u001b[0m 287ms/step - freshness_output_accuracy: 0.9890 - fruit_type_output_accuracy: 0.9920 - loss: 0.0669\n",
            "Epoch 7: val_loss improved from 0.07061 to 0.06884, saving model to best_model.keras\n",
            "\u001b[1m218/218\u001b[0m \u001b[32m━━━━━━━━━━━━━━━━━━━━\u001b[0m\u001b[37m\u001b[0m \u001b[1m129s\u001b[0m 348ms/step - freshness_output_accuracy: 0.9890 - fruit_type_output_accuracy: 0.9920 - loss: 0.0669 - val_freshness_output_accuracy: 0.9857 - val_fruit_type_output_accuracy: 0.9948 - val_loss: 0.0688 - learning_rate: 0.0010\n",
            "Epoch 8/20\n",
            "\u001b[1m218/218\u001b[0m \u001b[32m━━━━━━━━━━━━━━━━━━━━\u001b[0m\u001b[37m\u001b[0m \u001b[1m0s\u001b[0m 294ms/step - freshness_output_accuracy: 0.9896 - fruit_type_output_accuracy: 0.9944 - loss: 0.0538\n",
            "Epoch 8: val_loss improved from 0.06884 to 0.06579, saving model to best_model.keras\n",
            "\u001b[1m218/218\u001b[0m \u001b[32m━━━━━━━━━━━━━━━━━━━━\u001b[0m\u001b[37m\u001b[0m \u001b[1m91s\u001b[0m 391ms/step - freshness_output_accuracy: 0.9896 - fruit_type_output_accuracy: 0.9944 - loss: 0.0538 - val_freshness_output_accuracy: 0.9948 - val_fruit_type_output_accuracy: 0.9920 - val_loss: 0.0658 - learning_rate: 0.0010\n",
            "Epoch 9/20\n",
            "\u001b[1m218/218\u001b[0m \u001b[32m━━━━━━━━━━━━━━━━━━━━\u001b[0m\u001b[37m\u001b[0m \u001b[1m0s\u001b[0m 292ms/step - freshness_output_accuracy: 0.9906 - fruit_type_output_accuracy: 0.9940 - loss: 0.0483\n",
            "Epoch 9: val_loss did not improve from 0.06579\n",
            "\u001b[1m218/218\u001b[0m \u001b[32m━━━━━━━━━━━━━━━━━━━━\u001b[0m\u001b[37m\u001b[0m \u001b[1m84s\u001b[0m 387ms/step - freshness_output_accuracy: 0.9906 - fruit_type_output_accuracy: 0.9940 - loss: 0.0483 - val_freshness_output_accuracy: 0.9908 - val_fruit_type_output_accuracy: 0.9908 - val_loss: 0.0738 - learning_rate: 0.0010\n",
            "Epoch 10/20\n",
            "\u001b[1m218/218\u001b[0m \u001b[32m━━━━━━━━━━━━━━━━━━━━\u001b[0m\u001b[37m\u001b[0m \u001b[1m0s\u001b[0m 289ms/step - freshness_output_accuracy: 0.9906 - fruit_type_output_accuracy: 0.9904 - loss: 0.0634\n",
            "Epoch 10: val_loss improved from 0.06579 to 0.04804, saving model to best_model.keras\n",
            "\u001b[1m218/218\u001b[0m \u001b[32m━━━━━━━━━━━━━━━━━━━━\u001b[0m\u001b[37m\u001b[0m \u001b[1m135s\u001b[0m 354ms/step - freshness_output_accuracy: 0.9906 - fruit_type_output_accuracy: 0.9904 - loss: 0.0634 - val_freshness_output_accuracy: 0.9914 - val_fruit_type_output_accuracy: 0.9943 - val_loss: 0.0480 - learning_rate: 0.0010\n",
            "Epoch 11/20\n",
            "\u001b[1m218/218\u001b[0m \u001b[32m━━━━━━━━━━━━━━━━━━━━\u001b[0m\u001b[37m\u001b[0m \u001b[1m0s\u001b[0m 288ms/step - freshness_output_accuracy: 0.9927 - fruit_type_output_accuracy: 0.9927 - loss: 0.0517\n",
            "Epoch 11: val_loss improved from 0.04804 to 0.04324, saving model to best_model.keras\n",
            "\u001b[1m218/218\u001b[0m \u001b[32m━━━━━━━━━━━━━━━━━━━━\u001b[0m\u001b[37m\u001b[0m \u001b[1m89s\u001b[0m 386ms/step - freshness_output_accuracy: 0.9927 - fruit_type_output_accuracy: 0.9927 - loss: 0.0518 - val_freshness_output_accuracy: 0.9925 - val_fruit_type_output_accuracy: 0.9943 - val_loss: 0.0432 - learning_rate: 0.0010\n",
            "Epoch 12/20\n",
            "\u001b[1m218/218\u001b[0m \u001b[32m━━━━━━━━━━━━━━━━━━━━\u001b[0m\u001b[37m\u001b[0m \u001b[1m0s\u001b[0m 290ms/step - freshness_output_accuracy: 0.9910 - fruit_type_output_accuracy: 0.9946 - loss: 0.0551\n",
            "Epoch 12: val_loss improved from 0.04324 to 0.04137, saving model to best_model.keras\n",
            "\u001b[1m218/218\u001b[0m \u001b[32m━━━━━━━━━━━━━━━━━━━━\u001b[0m\u001b[37m\u001b[0m \u001b[1m135s\u001b[0m 357ms/step - freshness_output_accuracy: 0.9910 - fruit_type_output_accuracy: 0.9946 - loss: 0.0551 - val_freshness_output_accuracy: 0.9948 - val_fruit_type_output_accuracy: 0.9903 - val_loss: 0.0414 - learning_rate: 0.0010\n",
            "Epoch 13/20\n",
            "\u001b[1m218/218\u001b[0m \u001b[32m━━━━━━━━━━━━━━━━━━━━\u001b[0m\u001b[37m\u001b[0m \u001b[1m0s\u001b[0m 287ms/step - freshness_output_accuracy: 0.9951 - fruit_type_output_accuracy: 0.9931 - loss: 0.0377\n",
            "Epoch 13: val_loss improved from 0.04137 to 0.02959, saving model to best_model.keras\n",
            "\u001b[1m218/218\u001b[0m \u001b[32m━━━━━━━━━━━━━━━━━━━━\u001b[0m\u001b[37m\u001b[0m \u001b[1m84s\u001b[0m 384ms/step - freshness_output_accuracy: 0.9951 - fruit_type_output_accuracy: 0.9931 - loss: 0.0377 - val_freshness_output_accuracy: 0.9954 - val_fruit_type_output_accuracy: 0.9977 - val_loss: 0.0296 - learning_rate: 0.0010\n",
            "Epoch 14/20\n",
            "\u001b[1m218/218\u001b[0m \u001b[32m━━━━━━━━━━━━━━━━━━━━\u001b[0m\u001b[37m\u001b[0m \u001b[1m0s\u001b[0m 294ms/step - freshness_output_accuracy: 0.9958 - fruit_type_output_accuracy: 0.9938 - loss: 0.0399\n",
            "Epoch 14: val_loss improved from 0.02959 to 0.02891, saving model to best_model.keras\n",
            "\u001b[1m218/218\u001b[0m \u001b[32m━━━━━━━━━━━━━━━━━━━━\u001b[0m\u001b[37m\u001b[0m \u001b[1m144s\u001b[0m 391ms/step - freshness_output_accuracy: 0.9958 - fruit_type_output_accuracy: 0.9938 - loss: 0.0399 - val_freshness_output_accuracy: 0.9977 - val_fruit_type_output_accuracy: 0.9960 - val_loss: 0.0289 - learning_rate: 0.0010\n",
            "Epoch 15/20\n",
            "\u001b[1m218/218\u001b[0m \u001b[32m━━━━━━━━━━━━━━━━━━━━\u001b[0m\u001b[37m\u001b[0m \u001b[1m0s\u001b[0m 290ms/step - freshness_output_accuracy: 0.9923 - fruit_type_output_accuracy: 0.9974 - loss: 0.0288\n",
            "Epoch 15: val_loss did not improve from 0.02891\n",
            "\u001b[1m218/218\u001b[0m \u001b[32m━━━━━━━━━━━━━━━━━━━━\u001b[0m\u001b[37m\u001b[0m \u001b[1m141s\u001b[0m 385ms/step - freshness_output_accuracy: 0.9923 - fruit_type_output_accuracy: 0.9974 - loss: 0.0288 - val_freshness_output_accuracy: 0.9971 - val_fruit_type_output_accuracy: 0.9914 - val_loss: 0.0405 - learning_rate: 0.0010\n",
            "Epoch 16/20\n",
            "\u001b[1m218/218\u001b[0m \u001b[32m━━━━━━━━━━━━━━━━━━━━\u001b[0m\u001b[37m\u001b[0m \u001b[1m0s\u001b[0m 296ms/step - freshness_output_accuracy: 0.9958 - fruit_type_output_accuracy: 0.9970 - loss: 0.0226\n",
            "Epoch 16: val_loss did not improve from 0.02891\n",
            "\u001b[1m218/218\u001b[0m \u001b[32m━━━━━━━━━━━━━━━━━━━━\u001b[0m\u001b[37m\u001b[0m \u001b[1m143s\u001b[0m 391ms/step - freshness_output_accuracy: 0.9958 - fruit_type_output_accuracy: 0.9970 - loss: 0.0226 - val_freshness_output_accuracy: 0.9931 - val_fruit_type_output_accuracy: 0.9960 - val_loss: 0.0470 - learning_rate: 0.0010\n",
            "Epoch 17/20\n",
            "\u001b[1m218/218\u001b[0m \u001b[32m━━━━━━━━━━━━━━━━━━━━\u001b[0m\u001b[37m\u001b[0m \u001b[1m0s\u001b[0m 292ms/step - freshness_output_accuracy: 0.9929 - fruit_type_output_accuracy: 0.9958 - loss: 0.0457\n",
            "Epoch 17: val_loss did not improve from 0.02891\n",
            "\u001b[1m218/218\u001b[0m \u001b[32m━━━━━━━━━━━━━━━━━━━━\u001b[0m\u001b[37m\u001b[0m \u001b[1m141s\u001b[0m 387ms/step - freshness_output_accuracy: 0.9929 - fruit_type_output_accuracy: 0.9958 - loss: 0.0457 - val_freshness_output_accuracy: 0.9908 - val_fruit_type_output_accuracy: 0.9903 - val_loss: 0.0832 - learning_rate: 0.0010\n",
            "Epoch 18/20\n",
            "\u001b[1m218/218\u001b[0m \u001b[32m━━━━━━━━━━━━━━━━━━━━\u001b[0m\u001b[37m\u001b[0m \u001b[1m0s\u001b[0m 296ms/step - freshness_output_accuracy: 0.9959 - fruit_type_output_accuracy: 0.9943 - loss: 0.0357\n",
            "Epoch 18: val_loss did not improve from 0.02891\n",
            "\u001b[1m218/218\u001b[0m \u001b[32m━━━━━━━━━━━━━━━━━━━━\u001b[0m\u001b[37m\u001b[0m \u001b[1m143s\u001b[0m 390ms/step - freshness_output_accuracy: 0.9959 - fruit_type_output_accuracy: 0.9943 - loss: 0.0357 - val_freshness_output_accuracy: 0.9931 - val_fruit_type_output_accuracy: 0.9948 - val_loss: 0.0443 - learning_rate: 0.0010\n",
            "Epoch 19/20\n",
            "\u001b[1m218/218\u001b[0m \u001b[32m━━━━━━━━━━━━━━━━━━━━\u001b[0m\u001b[37m\u001b[0m \u001b[1m0s\u001b[0m 294ms/step - freshness_output_accuracy: 0.9960 - fruit_type_output_accuracy: 0.9957 - loss: 0.0325\n",
            "Epoch 19: val_loss did not improve from 0.02891\n",
            "\u001b[1m218/218\u001b[0m \u001b[32m━━━━━━━━━━━━━━━━━━━━\u001b[0m\u001b[37m\u001b[0m \u001b[1m141s\u001b[0m 389ms/step - freshness_output_accuracy: 0.9960 - fruit_type_output_accuracy: 0.9957 - loss: 0.0325 - val_freshness_output_accuracy: 0.9874 - val_fruit_type_output_accuracy: 0.9925 - val_loss: 0.0754 - learning_rate: 0.0010\n",
            "Epoch 20/20\n",
            "\u001b[1m218/218\u001b[0m \u001b[32m━━━━━━━━━━━━━━━━━━━━\u001b[0m\u001b[37m\u001b[0m \u001b[1m0s\u001b[0m 296ms/step - freshness_output_accuracy: 0.9940 - fruit_type_output_accuracy: 0.9954 - loss: 0.0444\n",
            "Epoch 20: ReduceLROnPlateau reducing learning rate to 0.0005000000237487257.\n",
            "\n",
            "Epoch 20: val_loss did not improve from 0.02891\n",
            "\u001b[1m218/218\u001b[0m \u001b[32m━━━━━━━━━━━━━━━━━━━━\u001b[0m\u001b[37m\u001b[0m \u001b[1m135s\u001b[0m 356ms/step - freshness_output_accuracy: 0.9940 - fruit_type_output_accuracy: 0.9954 - loss: 0.0445 - val_freshness_output_accuracy: 0.9931 - val_fruit_type_output_accuracy: 0.9948 - val_loss: 0.0386 - learning_rate: 0.0010\n"
          ]
        }
      ]
    },
    {
      "cell_type": "code",
      "source": [
        "# Kısmen çalışmıyor. Kodlarda çok oynama yaptım. Fakat düzeltilebilir.\n",
        "\n",
        "plt.figure(figsize=(20, 12))\n",
        "plt.subplot(1, 2, 1)\n",
        "plt.plot(history.history['loss'], label='Training Loss')\n",
        "plt.plot(history.history['val_loss'], label='Validation Loss')\n",
        "plt.xlabel('Epochs')\n",
        "plt.ylabel('Loss')\n",
        "plt.title('Training and Validation Loss')\n",
        "plt.legend()\n",
        "\n",
        "plt.subplot(1, 2, 2)\n",
        "plt.plot(history.history['accuracy'], label='Training Accuracy')\n",
        "plt.plot(history.history['val_accuracy'], label='Validation Accuracy')\n",
        "plt.xlabel('Epochs')\n",
        "plt.ylabel('Accuracy')\n",
        "plt.title('Training and Validation Accuracy')\n",
        "plt.legend()\n",
        "plt.show()\n"
      ],
      "metadata": {
        "colab": {
          "base_uri": "https://localhost:8080/",
          "height": 961
        },
        "id": "utYnb5JSlgo9",
        "outputId": "5bab4858-b43d-479c-ccfb-f3de9c85d7e3"
      },
      "execution_count": 11,
      "outputs": [
        {
          "output_type": "error",
          "ename": "KeyError",
          "evalue": "'accuracy'",
          "traceback": [
            "\u001b[0;31m---------------------------------------------------------------------------\u001b[0m",
            "\u001b[0;31mKeyError\u001b[0m                                  Traceback (most recent call last)",
            "\u001b[0;32m<ipython-input-11-355c7336fdbc>\u001b[0m in \u001b[0;36m<cell line: 11>\u001b[0;34m()\u001b[0m\n\u001b[1;32m      9\u001b[0m \u001b[0;34m\u001b[0m\u001b[0m\n\u001b[1;32m     10\u001b[0m \u001b[0mplt\u001b[0m\u001b[0;34m.\u001b[0m\u001b[0msubplot\u001b[0m\u001b[0;34m(\u001b[0m\u001b[0;36m1\u001b[0m\u001b[0;34m,\u001b[0m \u001b[0;36m2\u001b[0m\u001b[0;34m,\u001b[0m \u001b[0;36m2\u001b[0m\u001b[0;34m)\u001b[0m\u001b[0;34m\u001b[0m\u001b[0;34m\u001b[0m\u001b[0m\n\u001b[0;32m---> 11\u001b[0;31m \u001b[0mplt\u001b[0m\u001b[0;34m.\u001b[0m\u001b[0mplot\u001b[0m\u001b[0;34m(\u001b[0m\u001b[0mhistory\u001b[0m\u001b[0;34m.\u001b[0m\u001b[0mhistory\u001b[0m\u001b[0;34m[\u001b[0m\u001b[0;34m'accuracy'\u001b[0m\u001b[0;34m]\u001b[0m\u001b[0;34m,\u001b[0m \u001b[0mlabel\u001b[0m\u001b[0;34m=\u001b[0m\u001b[0;34m'Training Accuracy'\u001b[0m\u001b[0;34m)\u001b[0m\u001b[0;34m\u001b[0m\u001b[0;34m\u001b[0m\u001b[0m\n\u001b[0m\u001b[1;32m     12\u001b[0m \u001b[0mplt\u001b[0m\u001b[0;34m.\u001b[0m\u001b[0mplot\u001b[0m\u001b[0;34m(\u001b[0m\u001b[0mhistory\u001b[0m\u001b[0;34m.\u001b[0m\u001b[0mhistory\u001b[0m\u001b[0;34m[\u001b[0m\u001b[0;34m'val_accuracy'\u001b[0m\u001b[0;34m]\u001b[0m\u001b[0;34m,\u001b[0m \u001b[0mlabel\u001b[0m\u001b[0;34m=\u001b[0m\u001b[0;34m'Validation Accuracy'\u001b[0m\u001b[0;34m)\u001b[0m\u001b[0;34m\u001b[0m\u001b[0;34m\u001b[0m\u001b[0m\n\u001b[1;32m     13\u001b[0m \u001b[0mplt\u001b[0m\u001b[0;34m.\u001b[0m\u001b[0mxlabel\u001b[0m\u001b[0;34m(\u001b[0m\u001b[0;34m'Epochs'\u001b[0m\u001b[0;34m)\u001b[0m\u001b[0;34m\u001b[0m\u001b[0;34m\u001b[0m\u001b[0m\n",
            "\u001b[0;31mKeyError\u001b[0m: 'accuracy'"
          ]
        },
        {
          "output_type": "display_data",
          "data": {
            "text/plain": [
              "<Figure size 2000x1200 with 2 Axes>"
            ],
            "image/png": "[encoded data removed]"
          },
          "metadata": {}
        }
      ]
    },
    {
      "cell_type": "code",
      "source": [
        "# Şuan çalışmıyor. Kodlarda çok oynama yaptım. Fakat düzeltilebilir.\n",
        "\n",
        "model.evaluate(X_test, Y_test)\n",
        "\n",
        "test_img = X_test[0]\n",
        "plt.imshow(test_img)\n",
        "test_img = np.expand_dims(test_img, axis=0)\n",
        "prediction = model.predict(test_img)\n",
        "print('Prediction:', 'Çürük' if prediction > 0.5 else 'Taze')\n"
      ],
      "metadata": {
        "id": "QW-KVwS-lkj2"
      },
      "execution_count": null,
      "outputs": []
    },
    {
      "cell_type": "code",
      "source": [
        "from google.colab import files\n",
        "from PIL import Image\n",
        "import numpy as np\n",
        "\n",
        "# Fotoğraf yükleme butonu oluşturma\n",
        "uploaded = files.upload()\n",
        "\n",
        "# Yüklenen fotoğrafı işleme\n",
        "for file_name in uploaded.keys():\n",
        "    img = Image.open(file_name)\n",
        "    img = img.resize((100, 100))\n",
        "    img = np.array(img) / 255.0\n",
        "    img = np.expand_dims(img, axis=0)\n",
        "\n",
        "    # Model ile tahmin yap\n",
        "    predictions = model.predict(img)\n",
        "    fruit_type_pred = np.argmax(predictions[0])\n",
        "    freshness_pred = predictions[1][0]\n",
        "\n",
        "    # Meyve türünü belirleme\n",
        "    fruit_classes = ['Elma', 'Muz', 'Portakal']\n",
        "    predicted_fruit = fruit_classes[fruit_type_pred]\n",
        "\n",
        "    # Tazeliği belirleme\n",
        "    if freshness_pred > 0.5:\n",
        "        print(f'Bu meyve {predicted_fruit} ve çürük.')\n",
        "    else:\n",
        "        print(f'Bu meyve {predicted_fruit} ve taze.')\n"
      ],
      "metadata": {
        "id": "8tc6uTtxEYcf",
        "colab": {
          "base_uri": "https://localhost:8080/",
          "height": 107
        },
        "outputId": "781281e0-9e0f-455d-9ba3-95edec89a032"
      },
      "execution_count": 18,
      "outputs": [
        {
          "output_type": "display_data",
          "data": {
            "text/plain": [
              "<IPython.core.display.HTML object>"
            ],
            "text/html": [
              "\n",
              "     <input type=\"file\" id=\"files-f75bc5bb-a3de-42d0-b4e6-46da39c5d9d8\" name=\"files[]\" multiple disabled\n",
              "        style=\"border:none\" />\n",
              "     <output id=\"result-f75bc5bb-a3de-42d0-b4e6-46da39c5d9d8\">\n",
              "      Upload widget is only available when the cell has been executed in the\n",
              "      current browser session. Please rerun this cell to enable.\n",
              "      </output>\n",
              "      <script>// Copyright 2017 Google LLC\n",
              "//\n",
              "// Licensed under the Apache License, Version 2.0 (the \"License\");\n",
              "// you may not use this file except in compliance with the License.\n",
              "// You may obtain a copy of the License at\n",
              "//\n",
              "//      http://www.apache.org/licenses/LICENSE-2.0\n",
              "//\n",
              "// Unless required by applicable law or agreed to in writing, software\n",
              "// distributed under the License is distributed on an \"AS IS\" BASIS,\n",
              "// WITHOUT WARRANTIES OR CONDITIONS OF ANY KIND, either express or implied.\n",
              "// See the License for the specific language governing permissions and\n",
              "// limitations under the License.\n",
              "\n",
              "/**\n",
              " * @fileoverview Helpers for google.colab Python module.\n",
              " */\n",
              "(function(scope) {\n",
              "function span(text, styleAttributes = {}) {\n",
              "  const element = document.createElement('span');\n",
              "  element.textContent = text;\n",
              "  for (const key of Object.keys(styleAttributes)) {\n",
              "    element.style[key] = styleAttributes[key];\n",
              "  }\n",
              "  return element;\n",
              "}\n",
              "\n",
              "// Max number of bytes which will be uploaded at a time.\n",
              "const MAX_PAYLOAD_SIZE = 100 * 1024;\n",
              "\n",
              "function _uploadFiles(inputId, outputId) {\n",
              "  const steps = uploadFilesStep(inputId, outputId);\n",
              "  const outputElement = document.getElementById(outputId);\n",
              "  // Cache steps on the outputElement to make it available for the next call\n",
              "  // to uploadFilesContinue from Python.\n",
              "  outputElement.steps = steps;\n",
              "\n",
              "  return _uploadFilesContinue(outputId);\n",
              "}\n",
              "\n",
              "// This is roughly an async generator (not supported in the browser yet),\n",
              "// where there are multiple asynchronous steps and the Python side is going\n",
              "// to poll for completion of each step.\n",
              "// This uses a Promise to block the python side on completion of each step,\n",
              "// then passes the result of the previous step as the input to the next step.\n",
              "function _uploadFilesContinue(outputId) {\n",
              "  const outputElement = document.getElementById(outputId);\n",
              "  const steps = outputElement.steps;\n",
              "\n",
              "  const next = steps.next(outputElement.lastPromiseValue);\n",
              "  return Promise.resolve(next.value.promise).then((value) => {\n",
              "    // Cache the last promise value to make it available to the next\n",
              "    // step of the generator.\n",
              "    outputElement.lastPromiseValue = value;\n",
              "    return next.value.response;\n",
              "  });\n",
              "}\n",
              "\n",
              "/**\n",
              " * Generator function which is called between each async step of the upload\n",
              " * process.\n",
              " * @param {string} inputId Element ID of the input file picker element.\n",
              " * @param {string} outputId Element ID of the output display.\n",
              " * @return {!Iterable<!Object>} Iterable of next steps.\n",
              " */\n",
              "function* uploadFilesStep(inputId, outputId) {\n",
              "  const inputElement = document.getElementById(inputId);\n",
              "  inputElement.disabled = false;\n",
              "\n",
              "  const outputElement = document.getElementById(outputId);\n",
              "  outputElement.innerHTML = '';\n",
              "\n",
              "  const pickedPromise = new Promise((resolve) => {\n",
              "    inputElement.addEventListener('change', (e) => {\n",
              "      resolve(e.target.files);\n",
              "    });\n",
              "  });\n",
              "\n",
              "  const cancel = document.createElement('button');\n",
              "  inputElement.parentElement.appendChild(cancel);\n",
              "  cancel.textContent = 'Cancel upload';\n",
              "  const cancelPromise = new Promise((resolve) => {\n",
              "    cancel.onclick = () => {\n",
              "      resolve(null);\n",
              "    };\n",
              "  });\n",
              "\n",
              "  // Wait for the user to pick the files.\n",
              "  const files = yield {\n",
              "    promise: Promise.race([pickedPromise, cancelPromise]),\n",
              "    response: {\n",
              "      action: 'starting',\n",
              "    }\n",
              "  };\n",
              "\n",
              "  cancel.remove();\n",
              "\n",
              "  // Disable the input element since further picks are not allowed.\n",
              "  inputElement.disabled = true;\n",
              "\n",
              "  if (!files) {\n",
              "    return {\n",
              "      response: {\n",
              "        action: 'complete',\n",
              "      }\n",
              "    };\n",
              "  }\n",
              "\n",
              "  for (const file of files) {\n",
              "    const li = document.createElement('li');\n",
              "    li.append(span(file.name, {fontWeight: 'bold'}));\n",
              "    li.append(span(\n",
              "        `(${file.type || 'n/a'}) - ${file.size} bytes, ` +\n",
              "        `last modified: ${\n",
              "            file.lastModifiedDate ? file.lastModifiedDate.toLocaleDateString() :\n",
              "                                    'n/a'} - `));\n",
              "    const percent = span('0% done');\n",
              "    li.appendChild(percent);\n",
              "\n",
              "    outputElement.appendChild(li);\n",
              "\n",
              "    const fileDataPromise = new Promise((resolve) => {\n",
              "      const reader = new FileReader();\n",
              "      reader.onload = (e) => {\n",
              "        resolve(e.target.result);\n",
              "      };\n",
              "      reader.readAsArrayBuffer(file);\n",
              "    });\n",
              "    // Wait for the data to be ready.\n",
              "    let fileData = yield {\n",
              "      promise: fileDataPromise,\n",
              "      response: {\n",
              "        action: 'continue',\n",
              "      }\n",
              "    };\n",
              "\n",
              "    // Use a chunked sending to avoid message size limits. See b/62115660.\n",
              "    let position = 0;\n",
              "    do {\n",
              "      const length = Math.min(fileData.byteLength - position, MAX_PAYLOAD_SIZE);\n",
              "      const chunk = new Uint8Array(fileData, position, length);\n",
              "      position += length;\n",
              "\n",
              "      const base64 = btoa(String.fromCharCode.apply(null, chunk));\n",
              "      yield {\n",
              "        response: {\n",
              "          action: 'append',\n",
              "          file: file.name,\n",
              "          data: base64,\n",
              "        },\n",
              "      };\n",
              "\n",
              "      let percentDone = fileData.byteLength === 0 ?\n",
              "          100 :\n",
              "          Math.round((position / fileData.byteLength) * 100);\n",
              "      percent.textContent = `${percentDone}% done`;\n",
              "\n",
              "    } while (position < fileData.byteLength);\n",
              "  }\n",
              "\n",
              "  // All done.\n",
              "  yield {\n",
              "    response: {\n",
              "      action: 'complete',\n",
              "    }\n",
              "  };\n",
              "}\n",
              "\n",
              "scope.google = scope.google || {};\n",
              "scope.google.colab = scope.google.colab || {};\n",
              "scope.google.colab._files = {\n",
              "  _uploadFiles,\n",
              "  _uploadFilesContinue,\n",
              "};\n",
              "})(self);\n",
              "</script> "
            ]
          },
          "metadata": {}
        },
        {
          "output_type": "stream",
          "name": "stdout",
          "text": [
            "Saving rotten banana.jpg to rotten banana.jpg\n",
            "\u001b[1m1/1\u001b[0m \u001b[32m━━━━━━━━━━━━━━━━━━━━\u001b[0m\u001b[37m\u001b[0m \u001b[1m0s\u001b[0m 43ms/step\n",
            "Bu meyve Muz ve çürük.\n"
          ]
        }
      ]
    },
    {
      "cell_type": "code",
      "source": [
        "# Modeli kaydetme\n",
        "\n",
        "model.save('/content/drive/My Drive/Colab Notebooks/Taze/SonModel.keras')\n"
      ],
      "metadata": {
        "id": "PUCgOvhPIJv3"
      },
      "execution_count": 20,
      "outputs": []
    },
    {
      "cell_type": "code",
      "source": [
        "# Modeli yükleme\n",
        "\n",
        "from tensorflow.keras.models import load_model\n",
        "model = load_model('/content/drive/My Drive/Colab Notebooks/Taze/SonModel.keras')"
      ],
      "metadata": {
        "colab": {
          "base_uri": "https://localhost:8080/"
        },
        "id": "QHSsBxUSJCWV",
        "outputId": "b47275ec-7668-4532-fa5a-570146ba69db"
      },
      "execution_count": 22,
      "outputs": [
        {
          "output_type": "stream",
          "name": "stderr",
          "text": [
            "/usr/local/lib/python3.10/dist-packages/keras/src/saving/saving_lib.py:576: UserWarning: Skipping variable loading for optimizer 'rmsprop', because it has 24 variables whereas the saved optimizer has 46 variables. \n",
            "  saveable.load_own_variables(weights_store.get(inner_path))\n"
          ]
        }
      ]
    },
    {
      "cell_type": "code",
      "source": [
        "# Veri Kaydetme (NumPy): gereksiz zaten bu projede veriseti drive da bulunuyor.\n",
        "\n",
        "import numpy as np\n",
        "\n",
        "np.save('/content/drive/My Drive/Colab Notebooks/Taze/dataset.npy', dataset)\n"
      ],
      "metadata": {
        "colab": {
          "base_uri": "https://localhost:8080/",
          "height": 176
        },
        "id": "Z8rYwZirJNtL",
        "outputId": "73fd5779-7c79-4867-e162-f172f1680c74"
      },
      "execution_count": 23,
      "outputs": [
        {
          "output_type": "error",
          "ename": "NameError",
          "evalue": "name 'dataset' is not defined",
          "traceback": [
            "\u001b[0;31m---------------------------------------------------------------------------\u001b[0m",
            "\u001b[0;31mNameError\u001b[0m                                 Traceback (most recent call last)",
            "\u001b[0;32m<ipython-input-23-468c0a0b7d01>\u001b[0m in \u001b[0;36m<cell line: 5>\u001b[0;34m()\u001b[0m\n\u001b[1;32m      3\u001b[0m \u001b[0;32mimport\u001b[0m \u001b[0mnumpy\u001b[0m \u001b[0;32mas\u001b[0m \u001b[0mnp\u001b[0m\u001b[0;34m\u001b[0m\u001b[0;34m\u001b[0m\u001b[0m\n\u001b[1;32m      4\u001b[0m \u001b[0;34m\u001b[0m\u001b[0m\n\u001b[0;32m----> 5\u001b[0;31m \u001b[0mnp\u001b[0m\u001b[0;34m.\u001b[0m\u001b[0msave\u001b[0m\u001b[0;34m(\u001b[0m\u001b[0;34m'/content/drive/My Drive/Colab Notebooks/Taze/dataset.npy'\u001b[0m\u001b[0;34m,\u001b[0m \u001b[0mdataset\u001b[0m\u001b[0;34m)\u001b[0m\u001b[0;34m\u001b[0m\u001b[0;34m\u001b[0m\u001b[0m\n\u001b[0m",
            "\u001b[0;31mNameError\u001b[0m: name 'dataset' is not defined"
          ]
        }
      ]
    },
    {
      "cell_type": "code",
      "source": [
        "# Veri yükleme NumPy\n",
        "\n",
        "dataset = np.load('/content/drive/MyDrive/dataset.npy')\n"
      ],
      "metadata": {
        "id": "mmD-DeZtJOAg"
      },
      "execution_count": null,
      "outputs": []
    }
  ]
}
